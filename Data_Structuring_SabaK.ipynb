{
 "cells": [
  {
   "cell_type": "code",
   "execution_count": 1,
   "metadata": {},
   "outputs": [
    {
     "name": "stdout",
     "output_type": "stream",
     "text": [
      "[{'_id': ObjectId('58e6eccbe1799d0f58a9c5ae'), 'item_type': 'Book', 'primary_isbn': '9781453224069', 'title': \"In Search of Our Mothers' Gardens\", 'authors': [{'role': 1, 'firebrand_role': 'author', 'short_bio': 'Alice Walker (b. 1944), one of the United States’ preeminent writers, is an award-winning author of novels, stories, essays, and poetry. In 1983, Walker became the first African-American woman to win a Pulitzer Prize for fiction with her novel The Color Purple, which also won the National Book Award. Her other novels include The Third Life of Grange Copeland, Meridian, The Temple of My Familiar, and Possessing the Secret of Joy. In her public life, Walker has worked to address problems of injustice, inequality, and poverty as an activist, teacher, and public intellectual.', 'firebrand_id': 10693257, 'display_name': 'Alice Walker', 'first_name': 'Alice', 'last_name': 'Walker', 'slug': 'alice-walker'}], 'bookkey': '10701573', 'isbns': ['9781453224069'], 'price': '14.99', 'pub_date': datetime.datetime(2011, 11, 22, 5, 0), 'amazon_rank': 195653, 'amazon_review': 4.6, 'amazon_review_count': 42, 'reviews': '', 'book_img': '', 'asin': 'B005YZGTLA', 'publisher': 'Open Road Media', 'bisacs': ['Social Science/Essays', 'Social Science/Black Studies (Global)', 'Social Science/Feminism & Feminist Theory'], 'primary_bisacs': ['Social Science'], 'series_name': '', 'volume': '', 'format': 'Standard ePub', 'keywords': ['ebook', 'essays'], 'description': '<div><b>Walker&rsquo;s collection of early nonfiction serves as the manifesto of a young artist&mdash;and an illuminating self-portrait</b> <BR><BR>What is a womanist? Alice Walker sets out to define the concept in this anthology of early essays and other nonfiction pieces. As she outlines it, a womanist is a person who prefers to side with the oppressed: with women, with people of color, with the poor. As a writer, Walker has always taken such people as her primary subjects, and her search for paths toward self-possession and freedom always holds out hope for the transformative power of compassion and love. Whether she&rsquo;s taking on nuclear proliferation, the promise and problems of the civil rights movement, or her own creative process, Walker always brings to bear a fearless determination to tell the truth.  <BR><BR>This ebook features an illustrated biography of Alice Walker including rare photos from the author&rsquo;s personal collection. </div>', 'award_winner': False, 'campaigns': '', 'retailers': '', 'nominations': '', 'active': True, 'bisac_status': 'active', 'created': datetime.datetime(2017, 4, 7, 1, 35, 7, 601000), 'updated': datetime.datetime(2017, 10, 11, 7, 15, 16, 68000), 'image': 'book-assets.openroadmedia.com/9781453224069-book-cover.jpg', 'ebb_newsletter_data': [{'readable_date': '3/2/2016', 'date': datetime.datetime(2016, 3, 2, 5, 0), 'expiration_date': datetime.datetime(2016, 3, 31, 4, 0), 'original_price': '14.99', 'promo_price': '2.99', 'total_sales': 103, 'ebb_only': False}], 'legacy_slugs': ['in-search-of-our-mothers-gardens'], 'retailer_site_links': {'6': [{'url': 'http://www.amazon.com/gp/product/B005YZGTLA?ie=UTF8&camp=1789&creativeASIN=B005YZGTLA&linkCode=xm2&tag=httpwwwopen01-20', 'name': 'Amazon'}, {'url': 'http://itunes.apple.com/us/book/in-search-our-mothers-gardens/id475478057?mt=11&uo=4&at=10lrBN', 'name': 'Apple'}, {'url': 'http://search.overdrive.com/ti/2db91613-49ef-4aa2-af62-dcceb0df100b-420-1-0-0-0/search-mothers-gardens-alice-walker', 'name': 'Overdrive'}, {'url': 'https://play.google.com/store/books/details/Alice_Walker_In_Search_of_Our_Mothers_Gardens?id=53eAjaQ8i0IC', 'name': 'Google'}, {'url': 'http://www.anrdoezrs.net/links/7969735/type/dlg/http://www.barnesandnoble.com/w/in-search-of-our-mothers-gardens-alice-walker/1111832064?ean=9781453224069', 'name': 'Barnes & Noble'}, {'url': 'https://store.kobobooks.com/en-us/ebook/in-search-of-our-mothers-gardens-prose', 'name': 'Kobo'}]}, 'consumer_price': '9.99', 'previous_amazon_rank': 308265, 'amazon_rank_change': -37, 'previous_consumer_price': '9.99', 'google_id': '53eAjaQ8i0IC', 'apple_ean': '9781453232668', 'previous_amazon_review_count': 42, 'previous_amazon_review': 4.6}, {'_id': ObjectId('58e6eccbe1799d0f58a9c5af'), 'item_type': 'Book', 'primary_isbn': '9781453223963', 'title': 'Meridian', 'authors': [{'role': 1, 'short_bio': 'Alice Walker (b. 1944), one of the United States’ preeminent writers, is an award-winning author of novels, stories, essays, and poetry. In 1983, Walker became the first African-American woman to win a Pulitzer Prize for fiction with her novel The Color Purple, which also won the National Book Award. Her other novels include The Third Life of Grange Copeland, Meridian, The Temple of My Familiar, and Possessing the Secret of Joy. In her public life, Walker has worked to address problems of injustice, inequality, and poverty as an activist, teacher, and public intellectual.', 'firebrand_id': 10693257, 'display_name': 'Alice Walker', 'first_name': 'Alice', 'last_name': 'Walker', 'slug': 'alice-walker'}], 'bookkey': '10700900', 'isbns': ['9781453223963'], 'price': '17.99', 'pub_date': datetime.datetime(2011, 11, 22, 5, 0), 'amazon_rank': 135109, 'amazon_review': 4, 'amazon_review_count': 58, 'reviews': '', 'book_img': '', 'asin': 'B005YZGPPA', 'publisher': 'Open Road Media', 'bisacs': ['Fiction/Literary', 'Fiction/African American/Historical', 'Fiction/Political'], 'primary_bisacs': ['Fiction'], 'series_name': '', 'volume': '', 'format': 'Standard ePub', 'keywords': ['ebook', 'fiction'], 'description': '<div><B>&ldquo;A classic novel of both feminism and the Civil Rights movement&rdquo; in 1960s Atlanta by the Pulitzer Prize&ndash;winning author of <I>The Color Purple</I> (<I>Ms.</I>).</B><BR /><BR /> As she approaches the end of her teen years, Meridian Hill has already married, divorced, and given birth to a son. She&rsquo;s looking for a second chance, and at a small college outside Atlanta, Georgia, in the early 1960s, Meridian discovers the civil rights movement. So fully does the cause guide her life that she&rsquo;s willing to sacrifice virtually anything to help transform the conditions of a people whose subjugation she shares.  <BR /><I>Meridian</I> draws from Walker&rsquo;s own experiences working alongside some of the heroes of the civil rights movement, and the novel stands as a shrewd and affecting document of the dissolution of the Jim Crow South. <BR />  <I>This ebook features an illustrated biography of Alice Walker including rare photos from the author&rsquo;s personal collection.</I></div>', 'award_winner': False, 'campaigns': '', 'retailers': '', 'nominations': '', 'active': True, 'bisac_status': 'active', 'created': datetime.datetime(2017, 4, 7, 1, 35, 7, 637000), 'updated': datetime.datetime(2017, 10, 26, 14, 29, 55, 554000), 'image': 'orim-book-covers.s3.amazonaws.com/9781453223963-book-cover.jpg', 'ebb_newsletter_data': [{'readable_date': '8/10/2016', 'date': datetime.datetime(2016, 8, 10, 4, 0), 'expiration_date': datetime.datetime(2016, 8, 10, 4, 0), 'original_price': '$14.99', 'promo_price': '$1.99', 'total_sales': 2, 'ebb_only': False}, {'readable_date': '12/14/2016', 'date': datetime.datetime(2016, 12, 14, 5, 0), 'expiration_date': datetime.datetime(2016, 12, 14, 5, 0), 'original_price': '$14.99', 'promo_price': '$1.99', 'total_sales': 106, 'ebb_only': False}], 'legacy_slugs': ['meridian'], 'last_modified_by': ObjectId('582092746b961e001c041db6'), 'last_modified_on': datetime.datetime(2017, 4, 12, 18, 2, 39, 106000), 'retailer_site_links': {'6': [{'url': 'http://www.amazon.com/gp/product/B005YZGPPA?ie=UTF8&camp=1789&creativeASIN=B005YZGPPA&linkCode=xm2&tag=httpwwwopen01-20', 'name': 'Amazon'}, {'url': 'http://itunes.apple.com/us/book/meridian/id475477926?mt=11&uo=4&at=10lrBN', 'name': 'Apple'}, {'url': 'http://search.overdrive.com/ti/49c10e71-0e2f-4074-a065-dba49bde41c6-420-1-0-0-0/meridian-alice-walker', 'name': 'Overdrive'}, {'url': 'https://play.google.com/store/books/details/Alice_Walker_Meridian?id=4QrR2XWHBBIC', 'name': 'Google'}, {'url': 'http://www.anrdoezrs.net/links/7969735/type/dlg/http://www.barnesandnoble.com/w/meridian-alice-walker/1102154086?ean=9781453223963', 'name': 'Barnes & Noble'}, {'url': 'https://store.kobobooks.com/en-us/ebook/meridian-3', 'name': 'Kobo'}]}, 'consumer_price': '9.68', 'previous_amazon_rank': 92525, 'amazon_rank_change': 46, 'previous_consumer_price': '9.68', 'google_id': '4QrR2XWHBBIC', 'apple_ean': '9781453232705', 'previous_amazon_review_count': 58, 'previous_amazon_review': 4}, {'_id': ObjectId('58e6eccbe1799d0f58a9c5b0'), 'item_type': 'Book', 'primary_isbn': '9781453226070', 'title': 'Empires Apart', 'authors': [{'_id': ObjectId('58e6eccbafbe421347a10789'), 'role': 1, 'firebrand_role': 'author', 'firebrand_id': 10743606, 'display_name': 'Brian Landers', 'first_name': 'Brian', 'last_name': 'Landers', 'slug': 'brian-landers'}], 'bookkey': '12647348', 'isbns': ['9781453226070', '9781480407855'], 'price': '16.99', 'pub_date': datetime.datetime(2013, 4, 2, 0, 0), 'amazon_rank': 0, 'amazon_review': 0, 'amazon_review_count': 0, 'reviews': '', 'book_img': '', 'asin': '', 'publisher': 'Pegasus Books', 'bisacs': ['History/World'], 'primary_bisacs': ['History'], 'series_name': '', 'volume': '', 'format': 'PDF', 'keywords': ['ebook', 'history'], 'description': \"<div><b>A fresh, commanding, and thought-provoking history of the competing American and Russian empires</b> The American road to empire started when the first English settlers landed in Virginia. Simultaneously, the first Russians crossed the Urals, and the two empires that would dominate the twentieth century were born. <i>Empires Apart</i> reveals how the two empires developed in parallel as they expanded to the Pacific and launched wars against the nations around them. Provocatively, Landers shows how the broad sweep of American history follows a consistent path from the first settlers to the present day and, by comparing this with Russia's imperial path, demonstrates the true nature of American global ambitions.</div>\", 'award_winner': False, 'campaigns': '', 'retailers': '', 'nominations': '', 'active': False, 'bisac_status': 'withdrawn from sale', 'created': datetime.datetime(2017, 4, 7, 1, 35, 7, 693000), 'updated': datetime.datetime(2017, 4, 7, 4, 10, 29, 496000), 'image': 'book-assets.openroadmedia.com/9781453226070-book-cover.jpg', 'legacy_slugs': ['empires-apart'], 'retailer_site_links': {'6': [{'url': 'http://www.amazon.com/gp/product/B005LW2OEC?ie=UTF8&camp=1789&creativeASIN=B005LW2OEC&linkCode=xm2&tag=httpwwwopen01-20', 'name': 'Amazon'}, {'url': 'http://search.overdrive.com/TitleInfo/6858f0d2-b432-4746-8800-83f0591bfe2f/410', 'name': 'Overdrive'}, {'url': 'https://play.google.com/store/books/details/Brian_Landers_Empires_Apart?id=NSdwEHz66V4C', 'name': 'Google'}, {'url': 'https://itunes.apple.com/us/book/empires-apart/id464476616?mt=11&uo=4&partnerID=30&at=10lrBN', 'name': 'Apple'}]}, 'google_id': 'NSdwEHz66V4C', 'apple_ean': '9781453233245'}, {'_id': ObjectId('58e6eccbe1799d0f58a9c5b1'), 'item_type': 'Book', 'primary_isbn': '9781453226087', 'title': 'The Heavens Are Empty', 'authors': [{'_id': ObjectId('58e6eccbafbe421347a1078b'), 'role': 1, 'firebrand_role': 'author', 'firebrand_id': 10743714, 'display_name': 'Avrom Bendavid Val', 'first_name': 'Avrom', 'last_name': 'Bendavid-Val', 'slug': 'avrom-bendavid-val'}, {'_id': ObjectId('58e6eccbafbe421347a1078c'), 'role': 3, 'firebrand_role': 'preface by', 'firebrand_id': 10743715, 'display_name': 'Jonathan Foer', 'first_name': 'Jonathan', 'last_name': 'Foer', 'slug': 'jonathan-foer'}], 'bookkey': '12647584', 'isbns': ['9781453226087', '9781480407893'], 'price': '14.99', 'pub_date': datetime.datetime(2011, 11, 8, 0, 0), 'amazon_rank': 0, 'amazon_review': 0, 'amazon_review_count': 0, 'reviews': '', 'book_img': '', 'asin': '', 'publisher': 'Pegasus Books', 'bisacs': ['History/Holocaust', 'History/Jewish', 'History/Europe/Russia & the Former Soviet Union'], 'primary_bisacs': ['History'], 'series_name': '', 'volume': '', 'format': 'PDF', 'keywords': ['ebook', 'history'], 'description': '<div><b>A magical place, a lost history: Trochenbrod, the setting for <i>Everything Is Illuminated</i>, is now rediscovered for a new generation</b> Trochenbrod was the only freestanding, fully realized Jewish town in history. It began with a few Jewish settlers searching for freedom from the Russian Czars&rsquo; oppressive policies, which included the forced conscriptions of one son from each Jewish family household throughout Russia. This scene of ethnic harmony was soon shattered, as Trochenbrod vanished in 1941&mdash;her residents slaughtered, her homes, buildings, and factories razed to the ground.  Yet even the Nazis could not destroy the spirit of Trochenbrod, which has lived on in stories and legends about a little piece of heaven, hidden deep in the forest.</div>', 'award_winner': False, 'campaigns': '', 'retailers': '', 'nominations': '', 'active': False, 'bisac_status': 'withdrawn from sale', 'created': datetime.datetime(2017, 4, 7, 1, 35, 7, 740000), 'updated': datetime.datetime(2017, 4, 7, 4, 10, 29, 630000), 'image': 'book-assets.openroadmedia.com/9781453226087-book-cover.jpg', 'legacy_slugs': ['the-heavens-are-empty'], 'retailer_site_links': {'6': [{'url': 'http://search.overdrive.com/TitleInfo/80d63c98-5f4e-4621-88ac-b78e7fd65dc1/410', 'name': 'Overdrive'}, {'url': 'https://play.google.com/store/books/details/Avrom_Bendavid_Val_The_Heavens_Are_Empty?id=PjmMHL3DJRAC', 'name': 'Google'}]}, 'google_id': 'PjmMHL3DJRAC', 'apple_ean': '9781453233719'}, {'_id': ObjectId('58e6eccbe1799d0f58a9c5b2'), 'item_type': 'Book', 'primary_isbn': '9781453226049', 'title': \"Why Can't Elephants Jump?\", 'authors': [{'_id': ObjectId('58e6eccbafbe421347a1078e'), 'role': 1, 'firebrand_role': 'author', 'firebrand_id': 10978312, 'display_name': 'New Scientist', 'first_name': '', 'last_name': 'New Scientist', 'slug': 'new-scientist'}], 'bookkey': '12648062', 'isbns': ['9781453226049', '9781480407978'], 'price': '13.99', 'pub_date': datetime.datetime(2011, 11, 8, 0, 0), 'amazon_rank': 0, 'amazon_review': 0, 'amazon_review_count': 0, 'reviews': '', 'book_img': '', 'asin': '', 'publisher': 'Pegasus Books', 'bisacs': ['Science/General'], 'primary_bisacs': ['Science'], 'series_name': '', 'volume': '', 'format': 'PDF', 'keywords': ['ebook', 'science'], 'description': '<div><b>From the editors that brought you <i>Why Don&rsquo;t Penguin&rsquo;s Feet Freeze? </i>and <i>Do Sparrows Like Bach?</i>,an exploration of the weird and wonderful margins of science&mdash;the latest in brilliant <i>New Scientist</i> series</b><b> </b>What&rsquo;s the storage capacity of the human brain in gigabytes? Why is frozen milk yellow? Why do flamingos stand on one leg? And why can&rsquo;t elephant&rsquo;s jump? Is it because elephants are too large or heavy (after all, they say hippos and rhinos can play hopscotch)? Or is it because their knees face the wrong way? Or do they just wait until no one&rsquo;s looking? Read this brilliant new compilation to find out. This is popular science at its most absorbing and enjoyable.  The previous titles in the <i>New Scientist</i> series have been international bestsellers and sold over two million copies between them and here is another wonderful collection of wise, witty, and often surprising answers to a staggering range of science questions.</div>', 'award_winner': False, 'campaigns': '', 'retailers': '', 'nominations': '', 'active': False, 'bisac_status': 'withdrawn from sale', 'created': datetime.datetime(2017, 4, 7, 1, 35, 7, 792000), 'updated': datetime.datetime(2017, 4, 7, 4, 10, 29, 846000), 'image': 'book-assets.openroadmedia.com/9781453226049-book-cover.jpg', 'legacy_slugs': ['why-cant-elephants-jump'], 'retailer_site_links': {'6': [{'url': 'https://play.google.com/store/books/details/New_Scientist_Why_Can_t_Elephants_Jump?id=e6M1laCPUP4C', 'name': 'Google'}, {'url': 'http://www.amazon.com/gp/product/B005LW2IMA?ie=UTF8&camp=1789&creativeASIN=B005LW2IMA&linkCode=xm2&tag=httpwwwopen01-20', 'name': 'Amazon'}, {'url': 'http://search.overdrive.com/TitleInfo/f94dfe2f-51ad-416c-a468-1ecd9f1274bb/410', 'name': 'Overdrive'}, {'url': 'https://itunes.apple.com/us/book/why-cant-elephants-jump/id464479912?mt=11&uo=4&partnerID=30&at=10lrBN', 'name': 'Apple'}]}, 'google_id': 'e6M1laCPUP4C', 'apple_ean': '9781453234013'}]\n"
     ]
    }
   ],
   "source": [
    "#ORIM assignment Question 2\n",
    "#Author: Saba Khalid\n",
    "#import the bson libraries\n",
    "import bson\n",
    "\n",
    "#read and decode the file into a list of dictionaries:\n",
    "with open('books.bson','rb') as f:\n",
    "    raw =f.read()\n",
    "data = bson.decode_all(raw)\n",
    "print (data[0:5])\n",
    "\n"
   ]
  },
  {
   "cell_type": "code",
   "execution_count": 2,
   "metadata": {},
   "outputs": [
    {
     "name": "stdout",
     "output_type": "stream",
     "text": [
      "{'apple_ean', 'keywords', 'google_id', 'last_modified_by', 'authors', 'asin', 'publisher', 'ebb_newsletter_data', 'price', 'description', 'tags', 'genre', '_id', 'previous_consumer_price', 'amazon_review', 'last_modified_on', 'primary_isbn', 'item_type', 'retailer_site_links', 'new', 'primary_bisacs', 'amazon_rank', 'series_name', 'bookkey', 'consumer_price', 'sale_price', 'volume', 'bisacs', 'book_img', 'previous_amazon_review_count', 'amazon_review_count', 'previous_amazon_review', 'pub_date', 'legacy_slugs', 'active', 'isbns', 'format', 'updated', 'image', 'campaigns', 'amazon_rank_change', 'reviews', 'title', 'retailers', 'nominations', 'created', 'amazon_reviews_iframe', 'award_winner', 'bisac_status', 'previous_amazon_rank'}\n"
     ]
    }
   ],
   "source": [
    "#look for keys to explore :\n",
    "K= {k for d in data for k in d.keys()}\n",
    "print (K)"
   ]
  },
  {
   "cell_type": "code",
   "execution_count": 3,
   "metadata": {},
   "outputs": [],
   "source": [
    "#empty list to gather all the lists\n",
    "new_list=[]\n",
    "#store the values from the required keys into a list and assigning thier respective variables \n",
    "def data_points(list_,Data_p):\n",
    "    A =[d[Data_p] for d in list_ if Data_p in d]\n",
    "    return A\n",
    "title          =  data_points(data,'title')   \n",
    "primary_isbn13 = data_points(data,'primary_isbn') \n",
    "asin           =  data_points(data,'asin') \n",
    "apple_ean      =  data_points(data,'apple_ean') \n",
    "google_id      =  data_points(data,'google_id') \n",
    "publisher      =  data_points(data,'publisher') \n",
    "bisac_status   =  data_points(data,'bisac_status') \n",
    "pub_date       =  data_points(data,'pub_date') \n",
    "us_list_price  =  data_points(data,'us_list_price') \n",
    "series_name    =  data_points(data,'series_name') \n",
    "volume         =  data_points(data,'volume') \n",
    "legacy_slugs   =  data_points(data,'legacy_slugs') \n",
    "image          =  data_points(data,'image') \n",
    "description    =  data_points(data,'description') \n",
    "retailers      =  data_points(data,'retailers') \n",
    "product_uri    =  data_points(data,'product_uri') "
   ]
  },
  {
   "cell_type": "code",
   "execution_count": 4,
   "metadata": {},
   "outputs": [
    {
     "name": "stdout",
     "output_type": "stream",
     "text": [
      "16\n"
     ]
    }
   ],
   "source": [
    "#append all the lists into the empty list to create a list of list\n",
    "new_list.append(title)\n",
    "#print new_list\n",
    "new_list.append(primary_isbn13)\n",
    "new_list.append(asin)\n",
    "new_list.append(apple_ean)\n",
    "new_list.append(google_id)\n",
    "new_list.append(publisher)\n",
    "new_list.append(bisac_status)\n",
    "new_list.append(pub_date)\n",
    "new_list.append(us_list_price)\n",
    "new_list.append(series_name)\n",
    "new_list.append(volume)\n",
    "new_list.append(legacy_slugs)\n",
    "new_list.append(image)\n",
    "new_list.append(description)\n",
    "new_list.append(retailers)\n",
    "new_list.append(product_uri)\n",
    "\n",
    "print (len(new_list))"
   ]
  },
  {
   "cell_type": "code",
   "execution_count": 5,
   "metadata": {},
   "outputs": [
    {
     "name": "stdout",
     "output_type": "stream",
     "text": [
      "                               Title primary_isbn13        asin  \\\n",
      "0  In Search of Our Mothers' Gardens  9781453224069  B005YZGTLA   \n",
      "1                           Meridian  9781453223963  B005YZGPPA   \n",
      "2                      Empires Apart  9781453226070               \n",
      "3              The Heavens Are Empty  9781453226087               \n",
      "4          Why Can't Elephants Jump?  9781453226049               \n",
      "5           The Dog Who Came to Stay  9781453232354  B0066B7JWE   \n",
      "6            High, Wide and Lonesome  9781453232361  B0066B7LD6   \n",
      "7            Pricksongs and Descants  9781453233689               \n",
      "8       Sammy Spider's First Shavuot  9781480413542               \n",
      "9    Jerry Tracy, Celebrity Reporter  9781480440135  B00ED9O44W   \n",
      "\n",
      "       apple_ean     google_id                      publisher  \\\n",
      "0  9781453232668  53eAjaQ8i0IC                Open Road Media   \n",
      "1  9781453232705  4QrR2XWHBBIC                Open Road Media   \n",
      "2  9781453233245  NSdwEHz66V4C                  Pegasus Books   \n",
      "3  9781453233719  PjmMHL3DJRAC                  Pegasus Books   \n",
      "4  9781453234013  e6M1laCPUP4C                  Pegasus Books   \n",
      "5  9781453237939  be11ACU6PTIC                Open Road Media   \n",
      "6  9781453237946  Q3IVUXQAiOkC                Open Road Media   \n",
      "7  9781453234853  rxeFAwAAQBAJ                    Dzanc Books   \n",
      "8  9781480413818  5Zd68QlMSo8C             Kar-Ben Publishing   \n",
      "9  9781480440210  ARw-AAAAQBAJ  MysteriousPress.com/Open Road   \n",
      "\n",
      "          bisac_status             pub_date us_list_price   series_name  \\\n",
      "0               active  2011-11-22 05:00:00          None                 \n",
      "1               active  2011-11-22 05:00:00          None                 \n",
      "2  withdrawn from sale  2013-04-02 00:00:00          None                 \n",
      "3  withdrawn from sale  2011-11-08 00:00:00          None                 \n",
      "4  withdrawn from sale  2011-11-08 00:00:00          None                 \n",
      "5               active  2011-11-29 05:00:00          None                 \n",
      "6               active  2011-11-29 05:00:00          None                 \n",
      "7  withdrawn from sale  2014-05-27 00:00:00          None                 \n",
      "8  withdrawn from sale  2014-05-06 00:00:00          None  Sammy Spider   \n",
      "9               active  2013-10-29 00:00:00          None    Black Mask   \n",
      "\n",
      "  volume                        legacy_slugs  \\\n",
      "0         [in-search-of-our-mothers-gardens]   \n",
      "1                                 [meridian]   \n",
      "2                            [empires-apart]   \n",
      "3                    [the-heavens-are-empty]   \n",
      "4                  [why-cant-elephants-jump]   \n",
      "5                 [the-dog-who-came-to-stay]   \n",
      "6                   [high-wide-and-lonesome]   \n",
      "7                  [pricksongs-and-descants]   \n",
      "8              [sammy-spiders-first-shavuot]   \n",
      "9           [jerry-tracy-celebrity-reporter]   \n",
      "\n",
      "                                               image  \\\n",
      "0  book-assets.openroadmedia.com/9781453224069-bo...   \n",
      "1  orim-book-covers.s3.amazonaws.com/978145322396...   \n",
      "2  book-assets.openroadmedia.com/9781453226070-bo...   \n",
      "3  book-assets.openroadmedia.com/9781453226087-bo...   \n",
      "4  book-assets.openroadmedia.com/9781453226049-bo...   \n",
      "5  book-assets.openroadmedia.com/9781453232354-bo...   \n",
      "6  book-assets.openroadmedia.com/9781453232361-bo...   \n",
      "7  book-assets.openroadmedia.com/9781453233689-bo...   \n",
      "8  book-assets.openroadmedia.com/9781480413542-bo...   \n",
      "9  book-assets.openroadmedia.com/9781480440135-bo...   \n",
      "\n",
      "                                         description retailer product_uri  \n",
      "0  <div><b>Walker&rsquo;s collection of early non...                 None  \n",
      "1  <div><B>&ldquo;A classic novel of both feminis...                 None  \n",
      "2  <div><b>A fresh, commanding, and thought-provo...                 None  \n",
      "3  <div><b>A magical place, a lost history: Troch...                 None  \n",
      "4  <div><b>From the editors that brought you <i>W...                 None  \n",
      "5  <div><B>The memoir of a transformational frien...                 None  \n",
      "6  <div>In this memoir of a lost America, Hal Bor...                 None  \n",
      "7  <div>A groundbreaking collection of short fict...                 None  \n",
      "8  <div>&ldquo;What&rsquo;s a recipe?&rdquo; Samm...                 None  \n",
      "9  <div><b>Manhattan&rsquo;s sharpest gossip colu...                 None  \n"
     ]
    }
   ],
   "source": [
    "#import pandas:\n",
    "import pandas as pd\n",
    "\n",
    "#create a Dataframe of a list of lists:\n",
    "df=pd.DataFrame(new_list)\n",
    "df =df.transpose()\n",
    "#Assign column headings:\n",
    "df.columns =[\"Title\",\"primary_isbn13\",\"asin\",\"apple_ean\",\"google_id\",\"publisher\",\"bisac_status\",\"pub_date\",\"us_list_price\",\"series_name\",\"volume\",\"legacy_slugs\",\"image\",\"description\",\"retailer\",\"product_uri\"]\n",
    "print (df.head(10))"
   ]
  },
  {
   "cell_type": "code",
   "execution_count": 6,
   "metadata": {},
   "outputs": [
    {
     "name": "stdout",
     "output_type": "stream",
     "text": [
      "\n",
      "CSV file is generated\n",
      "\n"
     ]
    }
   ],
   "source": [
    "#generate a csv file :\n",
    "print (\"\\nCSV file is generated\\n\")\n",
    "#saves df into a csv file 'BOOKS_SK':\n",
    "df.to_csv('BOOKS_SK.csv', encoding='utf-8',index=True)    "
   ]
  },
  {
   "cell_type": "code",
   "execution_count": null,
   "metadata": {},
   "outputs": [],
   "source": []
  },
  {
   "cell_type": "code",
   "execution_count": null,
   "metadata": {},
   "outputs": [],
   "source": []
  },
  {
   "cell_type": "code",
   "execution_count": null,
   "metadata": {},
   "outputs": [],
   "source": []
  }
 ],
 "metadata": {
  "kernelspec": {
   "display_name": "Python 3",
   "language": "python",
   "name": "python3"
  },
  "language_info": {
   "codemirror_mode": {
    "name": "ipython",
    "version": 3
   },
   "file_extension": ".py",
   "mimetype": "text/x-python",
   "name": "python",
   "nbconvert_exporter": "python",
   "pygments_lexer": "ipython3",
   "version": "3.7.3"
  }
 },
 "nbformat": 4,
 "nbformat_minor": 2
}
